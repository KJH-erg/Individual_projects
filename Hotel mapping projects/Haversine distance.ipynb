{
 "cells": [
  {
   "cell_type": "code",
   "execution_count": 38,
   "metadata": {},
   "outputs": [],
   "source": [
    "#Hotel name comparison\n",
    "import pandas as pd\n",
    "import time\n",
    "from tqdm import tqdm\n",
    "import math\n",
    "import re\n",
    "\n",
    "\n",
    "Data = pd.read_excel('./123.xlsx', 'Sheet1') # Data location\n",
    "Data = Data[0:len(Data.index)]\n",
    "\n",
    "# new list for the result\n",
    "dist_list = []\n",
    "\n",
    "#new column for the result\n",
    "df[\"m\"]\n",
    "\n"
   ]
  },
  {
   "cell_type": "code",
   "execution_count": null,
   "metadata": {},
   "outputs": [],
   "source": [
    "\n",
    "for i in range(len(df)):\n",
    "    location_1 = (df['hc_lat'][i], df['hc_lng'][i])\n",
    "    location_2 = (df['la'][i], df['lng'][i])\n",
    "    dist = haversine(location_1, location_2, unit='m')\n",
    "    dist_list.append(dist)\n",
    "\n",
    "#list value to column    \n",
    "df['dist(m)'] = dist_list\n"
   ]
  },
  {
   "cell_type": "code",
   "execution_count": 46,
   "metadata": {},
   "outputs": [],
   "source": [
    "Data.to_excel('./123.xlsx') #저장 / 경로변경하슈"
   ]
  },
  {
   "cell_type": "code",
   "execution_count": null,
   "metadata": {},
   "outputs": [],
   "source": []
  },
  {
   "cell_type": "code",
   "execution_count": null,
   "metadata": {},
   "outputs": [],
   "source": []
  }
 ],
 "metadata": {
  "kernelspec": {
   "display_name": "Python 3",
   "language": "python",
   "name": "python3"
  },
  "language_info": {
   "codemirror_mode": {
    "name": "ipython",
    "version": 3
   },
   "file_extension": ".py",
   "mimetype": "text/x-python",
   "name": "python",
   "nbconvert_exporter": "python",
   "pygments_lexer": "ipython3",
   "version": "3.8.3"
  }
 },
 "nbformat": 4,
 "nbformat_minor": 4
}
