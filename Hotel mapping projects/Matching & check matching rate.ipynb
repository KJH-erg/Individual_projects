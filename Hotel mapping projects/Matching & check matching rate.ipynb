{
 "cells": [
  {
   "cell_type": "code",
   "execution_count": 47,
   "metadata": {},
   "outputs": [],
   "source": [
    "#Hotel name comparison\n",
    "import pandas as pd\n",
    "import time\n",
    "from tqdm import tqdm\n",
    "import math\n",
    "import re\n",
    "\n",
    "Data = pd.read_excel('./rate2.xlsx', 'Sheet1') # Data location\n",
    "Data = Data[0:len(Data.index)]\n",
    "\n",
    "# let length, name, address as three varibles\n",
    "Data ['lensignal'] = 0\n",
    "Data ['namesignal'] = 0\n",
    "Data ['addsignal'] = 0"
   ]
  },
  {
   "cell_type": "code",
   "execution_count": null,
   "metadata": {},
   "outputs": [],
   "source": [
    "#x = address data\n",
    "#giving different range for different values\n",
    "x = 0\n",
    "\n",
    "for i, row in tqdm(Data.iterrows(), total=Data.shape[0]):\n",
    "    x = Data.loc[i,'address_result']\n",
    "    if(x == 0):\n",
    "        Data.loc [i, 'addsignal']  = 0\n",
    "    elif(x == 1):\n",
    "        Data.loc [i, 'addsignal']  = 0.2\n",
    "    else:\n",
    "        Data.loc [i, 'addsignal']  = 1"
   ]
  },
  {
   "cell_type": "code",
   "execution_count": 49,
   "metadata": {},
   "outputs": [
    {
     "name": "stderr",
     "output_type": "stream",
     "text": [
      "100%|██████████| 4099/4099 [00:03<00:00, 1309.32it/s]\n"
     ]
    }
   ],
   "source": [
    "#y = distance data\n",
    "#giving different range for different values\n",
    "for i, row in tqdm(Data.iterrows(), total=Data.shape[0]):\n",
    "    \n",
    "    y = Data.loc[i,'len_result']\n",
    "    if(y == 0):\n",
    "        Data.loc [i, 'lensignal']  = 1\n",
    "    elif(y < 0.00000001):\n",
    "        Data.loc [i, 'lensignal']  = 0.5\n",
    "    elif(y <0.0001):\n",
    "        Data.loc [i, 'lensignal']  = 0.1\n",
    "    else:\n",
    "        Data.loc [i, 'lensignal']  = 0\n",
    "        "
   ]
  },
  {
   "cell_type": "code",
   "execution_count": 51,
   "metadata": {},
   "outputs": [
    {
     "name": "stderr",
     "output_type": "stream",
     "text": [
      "100%|██████████| 4099/4099 [00:03<00:00, 1044.46it/s]\n"
     ]
    }
   ],
   "source": [
    "#y = name data\n",
    "#normalizing by dividing the average length of name \n",
    "z = 0\n",
    "\n",
    "for i, row in tqdm(Data.iterrows(), total=Data.shape[0]):\n",
    "    try:\n",
    "        z = Data.loc[i,'name_result']/((len(Data.loc [i, \"new_name1\"])+ len(Data.loc [i,\"new_name2\"]))/2)\n",
    "        Data.loc [i, 'namesignal']  = z\n",
    "    except:\n",
    "        Data.loc [i, 'namesignal']  = 0"
   ]
  },
  {
   "cell_type": "code",
   "execution_count": 52,
   "metadata": {},
   "outputs": [],
   "source": [
    "# new columns for result\n",
    "Data ['signal'] = 0\n",
    "Data ['sig_result'] = 0"
   ]
  },
  {
   "cell_type": "code",
   "execution_count": 53,
   "metadata": {},
   "outputs": [],
   "source": [
    "# setting the signal\n",
    "for i in range(0, len(Data)):\n",
    "    Data.loc [i,'signal'] = (200* Data.loc[i,'namesignal']) + (75* Data.loc[i,'addsignal']) + (10*Data.loc[i,'lensignal'])\n",
    "    \n",
    "   "
   ]
  },
  {
   "cell_type": "code",
   "execution_count": 54,
   "metadata": {},
   "outputs": [],
   "source": [
    "# if signal is exceeding certain value result is true\n",
    "for i in range(0, len(Data)):\n",
    "    if(Data.loc [i,'signal'] > 26):\n",
    "         Data.loc [i,'sig_result'] = 1\n",
    "    else:\n",
    "        Data.loc [i,'sig_result'] = 0\n",
    "    "
   ]
  },
  {
   "cell_type": "code",
   "execution_count": null,
   "metadata": {},
   "outputs": [],
   "source": [
    "#export\n",
    "Data.to_excel('./rate3.xlsx') #저장 / 경로변경하슈"
   ]
  },
  {
   "cell_type": "code",
   "execution_count": null,
   "metadata": {},
   "outputs": [],
   "source": [
    "#total correct answers\n",
    "\n",
    "Matchrate = 0\n",
    "flag = 0\n",
    "for i in range(Data.shape[0]):\n",
    "    if (Data.loc[i,'result'] == Data.loc[i,'sig_result'] ):\n",
    "        flag = flag+1\n",
    "                  \n",
    "Matchrate = flag/Data.shape[0]\n",
    "print(Matchrate)"
   ]
  },
  {
   "cell_type": "code",
   "execution_count": null,
   "metadata": {},
   "outputs": [],
   "source": [
    "#b error(ori = 0 but result = 1)\n",
    "misMatchrate = 0\n",
    "flag2 = 0\n",
    "for i in range(Data.shape[0]):\n",
    "    if ((Data.loc[i,'result'] == 0)  & Data.loc[i,'sig_result'] == 1 ):\n",
    "        print(i)\n",
    "        flag2 = flag2+1\n",
    "                  \n",
    "misMatchrate = flag2/Data.shape[0]\n",
    "\n",
    "print(misMatchrate)"
   ]
  }
 ],
 "metadata": {
  "kernelspec": {
   "display_name": "Python 3",
   "language": "python",
   "name": "python3"
  },
  "language_info": {
   "codemirror_mode": {
    "name": "ipython",
    "version": 3
   },
   "file_extension": ".py",
   "mimetype": "text/x-python",
   "name": "python",
   "nbconvert_exporter": "python",
   "pygments_lexer": "ipython3",
   "version": "3.8.3"
  }
 },
 "nbformat": 4,
 "nbformat_minor": 4
}
