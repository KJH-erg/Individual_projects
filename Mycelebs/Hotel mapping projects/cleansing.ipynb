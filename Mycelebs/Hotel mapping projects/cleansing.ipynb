{
 "cells": [
  {
   "cell_type": "code",
   "execution_count": 4,
   "metadata": {},
   "outputs": [],
   "source": [
    "#Hotel name comparison\n",
    "import pandas as pd\n",
    "import time\n",
    "from tqdm import tqdm\n",
    "import math\n",
    "import re\n",
    "\n",
    "\n",
    "Data = pd.read_excel('./rate.xlsx', 'Sheet1') # Data location\n",
    "Data = Data[0:len(Data.index)]\n",
    "\n",
    "Name_1 =  Data['sub_HotelName'] #first address\n",
    "Name_2 = Data['HotelName'] #second address\n",
    "Data[\"new_name1\"] = 0 #add new  for cleaned hotel name1\n",
    "Data[\"new_name2\"] = 0  #add new  for cleaned hotel name2\n",
    "Data[\"name_result\"] = 0 #add new  for name comparison result\n",
    "Data[\"new_name1\"] =  Name_1\n",
    "Data[\"new_name2\"] =  Name_2\n",
    "\n",
    "new_name1 = Data[\"new_name1\"]\n",
    "new_name2 = Data[\"new_name2\"]\n"
   ]
  },
  {
   "cell_type": "code",
   "execution_count": 6,
   "metadata": {
    "scrolled": true
   },
   "outputs": [
    {
     "name": "stderr",
     "output_type": "stream",
     "text": [
      "  0%|          | 0/4099 [00:00<?, ?it/s]<ipython-input-6-d760a1176ca9>:5: SettingWithCopyWarning: \n",
      "A value is trying to be set on a copy of a slice from a DataFrame\n",
      "\n",
      "See the caveats in the documentation: https://pandas.pydata.org/pandas-docs/stable/user_guide/indexing.html#returning-a-view-versus-a-copy\n",
      "  new_name1[i] = new_name1[i].replace(\"-\", \"  \")\n",
      "<ipython-input-6-d760a1176ca9>:6: SettingWithCopyWarning: \n",
      "A value is trying to be set on a copy of a slice from a DataFrame\n",
      "\n",
      "See the caveats in the documentation: https://pandas.pydata.org/pandas-docs/stable/user_guide/indexing.html#returning-a-view-versus-a-copy\n",
      "  new_name1[i]= new_name1[i].replace(\"#\", \"  \")\n",
      "<ipython-input-6-d760a1176ca9>:7: SettingWithCopyWarning: \n",
      "A value is trying to be set on a copy of a slice from a DataFrame\n",
      "\n",
      "See the caveats in the documentation: https://pandas.pydata.org/pandas-docs/stable/user_guide/indexing.html#returning-a-view-versus-a-copy\n",
      "  new_name1[i]= new_name1[i].replace(\",\", \"  \")\n",
      "<ipython-input-6-d760a1176ca9>:8: SettingWithCopyWarning: \n",
      "A value is trying to be set on a copy of a slice from a DataFrame\n",
      "\n",
      "See the caveats in the documentation: https://pandas.pydata.org/pandas-docs/stable/user_guide/indexing.html#returning-a-view-versus-a-copy\n",
      "  new_name1[i]= new_name1[i].replace(\"&\", \"  \")\n",
      "<ipython-input-6-d760a1176ca9>:9: SettingWithCopyWarning: \n",
      "A value is trying to be set on a copy of a slice from a DataFrame\n",
      "\n",
      "See the caveats in the documentation: https://pandas.pydata.org/pandas-docs/stable/user_guide/indexing.html#returning-a-view-versus-a-copy\n",
      "  new_name1[i]= new_name1[i].replace(\"@\", \"  \")\n",
      "<ipython-input-6-d760a1176ca9>:10: SettingWithCopyWarning: \n",
      "A value is trying to be set on a copy of a slice from a DataFrame\n",
      "\n",
      "See the caveats in the documentation: https://pandas.pydata.org/pandas-docs/stable/user_guide/indexing.html#returning-a-view-versus-a-copy\n",
      "  new_name1[i]= new_name1[i].replace(\"!\", \"  \")\n",
      "<ipython-input-6-d760a1176ca9>:14: SettingWithCopyWarning: \n",
      "A value is trying to be set on a copy of a slice from a DataFrame\n",
      "\n",
      "See the caveats in the documentation: https://pandas.pydata.org/pandas-docs/stable/user_guide/indexing.html#returning-a-view-versus-a-copy\n",
      "  new_name2[i] = new_name2[i].replace(\"-\", \"  \")\n",
      "<ipython-input-6-d760a1176ca9>:15: SettingWithCopyWarning: \n",
      "A value is trying to be set on a copy of a slice from a DataFrame\n",
      "\n",
      "See the caveats in the documentation: https://pandas.pydata.org/pandas-docs/stable/user_guide/indexing.html#returning-a-view-versus-a-copy\n",
      "  new_name2[i]= new_name2[i].replace(\"#\", \"  \")\n",
      "<ipython-input-6-d760a1176ca9>:16: SettingWithCopyWarning: \n",
      "A value is trying to be set on a copy of a slice from a DataFrame\n",
      "\n",
      "See the caveats in the documentation: https://pandas.pydata.org/pandas-docs/stable/user_guide/indexing.html#returning-a-view-versus-a-copy\n",
      "  new_name2[i]= new_name2[i].replace(\",\", \"  \")\n",
      "<ipython-input-6-d760a1176ca9>:17: SettingWithCopyWarning: \n",
      "A value is trying to be set on a copy of a slice from a DataFrame\n",
      "\n",
      "See the caveats in the documentation: https://pandas.pydata.org/pandas-docs/stable/user_guide/indexing.html#returning-a-view-versus-a-copy\n",
      "  new_name2[i]= new_name2[i].replace(\"&\", \"  \")\n",
      "<ipython-input-6-d760a1176ca9>:18: SettingWithCopyWarning: \n",
      "A value is trying to be set on a copy of a slice from a DataFrame\n",
      "\n",
      "See the caveats in the documentation: https://pandas.pydata.org/pandas-docs/stable/user_guide/indexing.html#returning-a-view-versus-a-copy\n",
      "  new_name2[i]= new_name2[i].replace(\"@\", \"  \")\n",
      "<ipython-input-6-d760a1176ca9>:19: SettingWithCopyWarning: \n",
      "A value is trying to be set on a copy of a slice from a DataFrame\n",
      "\n",
      "See the caveats in the documentation: https://pandas.pydata.org/pandas-docs/stable/user_guide/indexing.html#returning-a-view-versus-a-copy\n",
      "  new_name2[i]= new_name2[i].replace(\"!\", \"  \")\n",
      "100%|██████████| 4099/4099 [00:08<00:00, 456.36it/s]\n"
     ]
    }
   ],
   "source": [
    "# name 1 &2 cleansing\n",
    "i = 0\n",
    "for i, row in tqdm(Data.iterrows(), total=Data.shape[0]):\n",
    "    try:\n",
    "        new_name1[i] = new_name1[i].replace(\"-\", \"  \")\n",
    "        new_name1[i]= new_name1[i].replace(\"#\", \"  \")\n",
    "        new_name1[i]= new_name1[i].replace(\",\", \"  \")\n",
    "        new_name1[i]= new_name1[i].replace(\"&\", \"  \")\n",
    "        new_name1[i]= new_name1[i].replace(\"@\", \"  \")\n",
    "        new_name1[i]= new_name1[i].replace(\"!\", \"  \")\n",
    "    except:\n",
    "        new_name1[i] = new_name1[i]\n",
    "    try:    \n",
    "        new_name2[i] = new_name2[i].replace(\"-\", \"  \")\n",
    "        new_name2[i]= new_name2[i].replace(\"#\", \"  \")\n",
    "        new_name2[i]= new_name2[i].replace(\",\", \"  \")\n",
    "        new_name2[i]= new_name2[i].replace(\"&\", \"  \")\n",
    "        new_name2[i]= new_name2[i].replace(\"@\", \"  \")\n",
    "        new_name2[i]= new_name2[i].replace(\"!\", \"  \")\n",
    "    except:\n",
    "        new_name2[i] = new_name2[i]"
   ]
  },
  {
   "cell_type": "code",
   "execution_count": 7,
   "metadata": {},
   "outputs": [],
   "source": [
    "# list of items not essential\n",
    "def clean(text): \n",
    "    result = text.replace(\" hotel\", \"  \")\n",
    "    result = result.replace(\" resort\", \" \")\n",
    "    result = result.replace(\" house\", \"  \")\n",
    "    result = result.replace(\" guest\", \"  \")\n",
    "    result = result.replace(\" spa\", \"  \")\n",
    "    result = result.replace(\" inn\", \"  \")\n",
    "    result = result.replace( \" by\", \"  \")\n",
    "    result = result.replace(\" suites\", \"  \")\n",
    "    result = result.replace(\" motel\", \"  \")\n",
    "    result = result.replace(\" of \", \"  \")\n",
    "    \n",
    "    return result"
   ]
  },
  {
   "cell_type": "code",
   "execution_count": 8,
   "metadata": {},
   "outputs": [
    {
     "name": "stderr",
     "output_type": "stream",
     "text": [
      "<ipython-input-8-84f83ada8a17>:3: SettingWithCopyWarning: \n",
      "A value is trying to be set on a copy of a slice from a DataFrame\n",
      "\n",
      "See the caveats in the documentation: https://pandas.pydata.org/pandas-docs/stable/user_guide/indexing.html#returning-a-view-versus-a-copy\n",
      "  new_name1[i]= clean(new_name1[i].lower())\n"
     ]
    }
   ],
   "source": [
    "#cleansing process\n",
    "for i in range(len(Data)):\n",
    "    try:\n",
    "        new_name1[i]= clean(new_name1[i].lower())\n",
    "    except:\n",
    "        new_name1[i] =new_name1[i]\n",
    "\n",
    "for i in range(len(Data)):\n",
    "    try:\n",
    "        new_name2[i]= clean(new_name2[i].lower())\n",
    "    except:\n",
    "        new_name2[i] =new_name2[i]\n",
    "\n",
    "            "
   ]
  },
  {
   "cell_type": "code",
   "execution_count": 10,
   "metadata": {},
   "outputs": [
    {
     "name": "stderr",
     "output_type": "stream",
     "text": [
      "<ipython-input-10-58c9a07f2250>:3: SettingWithCopyWarning: \n",
      "A value is trying to be set on a copy of a slice from a DataFrame\n",
      "\n",
      "See the caveats in the documentation: https://pandas.pydata.org/pandas-docs/stable/user_guide/indexing.html#returning-a-view-versus-a-copy\n",
      "  new_name1[i]=(new_name1[i].split())\n"
     ]
    }
   ],
   "source": [
    "#string to list\n",
    "\n",
    "for i in range(len(Data)):\n",
    "    try:\n",
    "        new_name1[i]=(new_name1[i].split())\n",
    "    except:\n",
    "        new_name1[i] = \"NA\"\n",
    "for i in range(len(Data)):\n",
    "    try:\n",
    "        new_name2[i]=(new_name2[i].split())\n",
    "    except:\n",
    "        new_name2[i] =new_name2[i]        "
   ]
  },
  {
   "cell_type": "code",
   "execution_count": 12,
   "metadata": {},
   "outputs": [
    {
     "name": "stderr",
     "output_type": "stream",
     "text": [
      "  0%|          | 0/4099 [00:00<?, ?it/s]<ipython-input-12-d699ff289758>:9: SettingWithCopyWarning: \n",
      "A value is trying to be set on a copy of a slice from a DataFrame\n",
      "\n",
      "See the caveats in the documentation: https://pandas.pydata.org/pandas-docs/stable/user_guide/indexing.html#returning-a-view-versus-a-copy\n",
      "  Data[\"name_result\"][i] = result\n",
      "100%|██████████| 4099/4099 [00:08<00:00, 505.16it/s]\n"
     ]
    }
   ],
   "source": [
    "#comparison process\n",
    "result = 0\n",
    "for i in tqdm(Data.index):\n",
    "\n",
    "    for j in range(0, ((len(new_name1[i])))):\n",
    "     \n",
    "        for q in range(0, ((len(new_name2[i])))):\n",
    "            if ((Data.loc[i, 'new_name1'][j]).lower()) == ((Data.loc[i, 'new_name2'][q]).lower()):\n",
    "                result =result+1\n",
    "            Data[\"name_result\"][i] = result\n",
    "    result = 0 \n",
    "                \n",
    "                "
   ]
  },
  {
   "cell_type": "code",
   "execution_count": 14,
   "metadata": {},
   "outputs": [],
   "source": [
    "# Adress part\n",
    "Adr_1 =  Data['sub_HotelAddress'] #first address\n",
    "Adr_2 = Data['HotelAddress'] #second address\n",
    "Data[\"new_adr1\"] = 0 #aadd new column for cleaned adr1\n",
    "Data[\"new_adr2\"] = 0 #add new column for cleaned adr2\n",
    "Data[\"address_result\"] = 0  #add new column for the result                  \n",
    "Data[\"new_adr1\"] =  Adr_1\n",
    "Data[\"new_adr2\"] =  Adr_2\n",
    "\n",
    "new_adr1 = Data[\"new_adr1\"]\n",
    "new_adr2 = Data[\"new_adr2\"]\n"
   ]
  },
  {
   "cell_type": "code",
   "execution_count": 15,
   "metadata": {},
   "outputs": [
    {
     "name": "stderr",
     "output_type": "stream",
     "text": [
      "  0%|          | 0/4099 [00:00<?, ?it/s]<ipython-input-15-82833d322ddf>:4: SettingWithCopyWarning: \n",
      "A value is trying to be set on a copy of a slice from a DataFrame\n",
      "\n",
      "See the caveats in the documentation: https://pandas.pydata.org/pandas-docs/stable/user_guide/indexing.html#returning-a-view-versus-a-copy\n",
      "  new_adr1[i] = new_adr1[i].replace(\"-\", \" \")\n",
      "<ipython-input-15-82833d322ddf>:5: SettingWithCopyWarning: \n",
      "A value is trying to be set on a copy of a slice from a DataFrame\n",
      "\n",
      "See the caveats in the documentation: https://pandas.pydata.org/pandas-docs/stable/user_guide/indexing.html#returning-a-view-versus-a-copy\n",
      "  new_adr1[i]= new_adr1[i].replace(\"#\", \" \")\n",
      "<ipython-input-15-82833d322ddf>:6: SettingWithCopyWarning: \n",
      "A value is trying to be set on a copy of a slice from a DataFrame\n",
      "\n",
      "See the caveats in the documentation: https://pandas.pydata.org/pandas-docs/stable/user_guide/indexing.html#returning-a-view-versus-a-copy\n",
      "  new_adr1[i]= new_adr1[i].replace(\",\", \" \")\n",
      "100%|██████████| 4099/4099 [00:03<00:00, 1156.76it/s]\n"
     ]
    }
   ],
   "source": [
    "# cleansing not esential part\n",
    "i = 0\n",
    "for i, row in tqdm(Data.iterrows(), total=Data.shape[0]):\n",
    "    try:\n",
    "        new_adr1[i] = new_adr1[i].replace(\"-\", \" \")\n",
    "        new_adr1[i]= new_adr1[i].replace(\"#\", \" \")\n",
    "        new_adr1[i]= new_adr1[i].replace(\",\", \" \")\n",
    "    except:\n",
    "        new_adr1[i]= \"NA\"\n",
    "        \n",
    "i = 0\n",
    "for i, row in tqdm(Data.iterrows(), total=Data.shape[0]):\n",
    "    try:\n",
    "        new_adr2[i] = new_adr2[i].replace(\"-\", \" \")\n",
    "        new_adr2[i]= new_adr2[i].replace(\"#\", \" \")\n",
    "        new_adr2[i]= new_adr2[i].replace(\",\", \" \")\n",
    "    except:\n",
    "        new_adr2[i] = (\"NA\")\n",
    "               "
   ]
  },
  {
   "cell_type": "code",
   "execution_count": 17,
   "metadata": {},
   "outputs": [
    {
     "name": "stderr",
     "output_type": "stream",
     "text": [
      "  0%|          | 0/4099 [00:00<?, ?it/s]<ipython-input-17-62ac347fdb1b>:4: SettingWithCopyWarning: \n",
      "A value is trying to be set on a copy of a slice from a DataFrame\n",
      "\n",
      "See the caveats in the documentation: https://pandas.pydata.org/pandas-docs/stable/user_guide/indexing.html#returning-a-view-versus-a-copy\n",
      "  new_adr1[i] = re.findall('\\d+', new_adr1[i])\n",
      "100%|██████████| 4099/4099 [00:01<00:00, 2611.16it/s]\n"
     ]
    }
   ],
   "source": [
    "# number part in address only\n",
    "i = 0\n",
    "for i, row in tqdm(Data.iterrows(), total=Data.shape[0]): \n",
    "    new_adr1[i] = re.findall('\\d+', new_adr1[i])\n",
    "i = 0\n",
    "for i, row in tqdm(Data.iterrows(), total=Data.shape[0]):\n",
    "    new_adr2[i] = re.findall('\\d+', new_adr2[i])"
   ]
  },
  {
   "cell_type": "code",
   "execution_count": 19,
   "metadata": {},
   "outputs": [
    {
     "name": "stderr",
     "output_type": "stream",
     "text": [
      "  0%|          | 0/4099 [00:00<?, ?it/s]<ipython-input-19-1de28d396e0f>:13: SettingWithCopyWarning: \n",
      "A value is trying to be set on a copy of a slice from a DataFrame\n",
      "\n",
      "See the caveats in the documentation: https://pandas.pydata.org/pandas-docs/stable/user_guide/indexing.html#returning-a-view-versus-a-copy\n",
      "  Data[\"address_result\"][i] = count\n",
      "100%|██████████| 4099/4099 [00:01<00:00, 3605.22it/s]\n"
     ]
    }
   ],
   "source": [
    "#address comparison\n",
    "result = 0\n",
    "count= 0\n",
    "for i in tqdm(Data.index):\n",
    "    \n",
    "\n",
    "    for j in range(0, ((len(new_adr1[i])))):\n",
    "\n",
    "     \n",
    "        for q in range(0, ((len(new_adr2[i])))):\n",
    "    \n",
    "            if (Data.loc[i, 'new_adr1'][j] == Data.loc[i, 'new_adr2'][q]):\n",
    "                count = count+1\n",
    "        Data[\"address_result\"][i] = count\n",
    "    count =0\n",
    "                "
   ]
  },
  {
   "cell_type": "code",
   "execution_count": null,
   "metadata": {},
   "outputs": [],
   "source": [
    "#export\n",
    "Data.to_excel('./rate2.xlsx') #저장 / 경로변경하슈"
   ]
  },
  {
   "cell_type": "code",
   "execution_count": null,
   "metadata": {},
   "outputs": [],
   "source": []
  }
 ],
 "metadata": {
  "kernelspec": {
   "display_name": "Python 3",
   "language": "python",
   "name": "python3"
  },
  "language_info": {
   "codemirror_mode": {
    "name": "ipython",
    "version": 3
   },
   "file_extension": ".py",
   "mimetype": "text/x-python",
   "name": "python",
   "nbconvert_exporter": "python",
   "pygments_lexer": "ipython3",
   "version": "3.8.3"
  }
 },
 "nbformat": 4,
 "nbformat_minor": 4
}
